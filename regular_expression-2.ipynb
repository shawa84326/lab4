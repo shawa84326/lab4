{
  "cells": [
    {
      "cell_type": "code",
      "execution_count": 1,
      "metadata": {
        "id": "27OOB5Z6ZuPq"
      },
      "outputs": [],
      "source": [
        "import re"
      ]
    },
    {
      "cell_type": "markdown",
      "metadata": {
        "id": "bvcZyMNaZuPr"
      },
      "source": [
        "## Basic Syntax\n",
        "\n",
        "- `.`: Matches any single character except newline\n",
        "- `^`: Matches the start of the string\n",
        "- `$`: Matches the end of the string\n",
        "- `*`: Matches 0 or more repetitions of the preceding element\n",
        "- `+`: Matches 1 or more repetitions of the preceding element\n",
        "- `?`: Matches 0 or 1 repetition of the preceding element\n",
        "- `{n}`: Matches exactly n repetitions of the preceding element\n",
        "- `{n,}`: Matches at least n repetitions of the preceding element\n",
        "- `{n,m}`: Matches between n and m repetitions of the preceding element\n",
        "- `|`: Alternation, matches either the pattern before or the pattern after the symbol\n",
        "\n",
        "## Character Classes\n",
        "\n",
        "- `[abc]`: Matches any one of the characters a, b, or c\n",
        "- `[^abc]`: Matches any character that is not a, b, or c\n",
        "- `[a-z]`: Matches any character from a to z\n",
        "- `[A-Z]`: Matches any character from A to Z\n",
        "- `[0-9]`: Matches any digit\n",
        "- `\\d`: Matches any digit (equivalent to [0-9])\n",
        "- `\\D`: Matches any non-digit\n",
        "- `\\w`: Matches any word character (equivalent to [a-zA-Z0-9_])\n",
        "- `\\W`: Matches any non-word character\n",
        "- `\\s`: Matches any whitespace character\n",
        "- `\\S`: Matches any non-whitespace character\n",
        "\n",
        "## Special Characters\n",
        "\n",
        "- `\\`: Escapes a special character\n",
        "- `()` : Defines a group\n",
        "- `(?:...)`: Non-capturing group\n",
        "- `(?=...)`: Positive lookahead assertion\n",
        "- `(?!...)`: Negative lookahead assertion\n",
        "\n",
        "## Examples\n",
        "\n",
        "- `abc`: Matches the string \"abc\"\n",
        "- `abc|def`: Matches \"abc\" or \"def\"\n",
        "- `^abc`: Matches any string that starts with \"abc\"\n",
        "- `abc$`: Matches a string that ends with \"abc\"\n",
        "- `a.b`: Matches any string containing \"a\", any character, then \"b\"\n",
        "- `a*`: Matches 0 or more 'a's\n",
        "- `a+`: Matches 1 or more 'a's\n",
        "- `a?`: Matches 0 or 1 'a'\n",
        "- `\\d{2,4}`: Matches between 2 and 4 digits"
      ]
    },
    {
      "cell_type": "code",
      "execution_count": 3,
      "metadata": {
        "id": "HVBhIMqTZuPs"
      },
      "outputs": [],
      "source": [
        "s = '''\n",
        "<a href=\"https://amazon.com/categories/ski\">Ski</a>\n",
        "<a href=\"https://amazon.com/p/1234567890/awesome-product-1\">Coffee beans</a>\n",
        "<a href=\"https://amazon.com/p/6454343333/ok-product-2\">Backcountry Ski</a>\n",
        "<a href=\"https://amazon.com/p/6543565454/great-product-1\">Book</a>\n",
        "<a href=\"https://amazon.com/about-us\">About Us</a>\n",
        "'''"
      ]
    },
    {
      "cell_type": "code",
      "execution_count": null,
      "metadata": {
        "id": "lC3CRPj8ZuPs",
        "outputId": "cb384b64-8998-423c-ab81-2f10a813d4a8"
      },
      "outputs": [
        {
          "data": {
            "text/plain": [
              "['<a href=\"https://amazon.com/p/1234567890/awesome-product-1\">']"
            ]
          },
          "execution_count": 4,
          "metadata": {},
          "output_type": "execute_result"
        }
      ],
      "source": [
        "# Extract only the product links\n",
        "# Expected output:\n",
        "# https://amazon.com/p/1234567890/awesome-product-1\n",
        "# https://amazon.com/p/6454343333/ok-product-2\n",
        "# https://amazon.com/p/6543565454/great-product-1\n",
        "\n",
        "re.findall(r'<a href=\"https://amazon.com/p/1234567890/awesome-product-1\">', s)"
      ]
    },
    {
      "cell_type": "code",
      "execution_count": 4,
      "metadata": {
        "colab": {
          "base_uri": "https://localhost:8080/"
        },
        "id": "YEFPuMagZuPt",
        "outputId": "5e52f418-e5b4-4e80-d7d6-63e98fde21b7"
      },
      "outputs": [
        {
          "output_type": "execute_result",
          "data": {
            "text/plain": [
              "['<a href=\"https://amazon.com/p/1234567890/awesome-product-1\">',\n",
              " '<a href=\"https://amazon.com/p/6454343333/ok-product-2\">',\n",
              " '<a href=\"https://amazon.com/p/6543565454/great-product-1\">']"
            ]
          },
          "metadata": {},
          "execution_count": 4
        }
      ],
      "source": [
        "re.findall(r'<a href=\"https://amazon.com/p/\\d+/.+\">', s)"
      ]
    },
    {
      "cell_type": "code",
      "execution_count": 5,
      "metadata": {
        "colab": {
          "base_uri": "https://localhost:8080/"
        },
        "id": "EWupuvF4ZuPt",
        "outputId": "3d73715f-1548-4cf6-ed02-46e240e2fca2"
      },
      "outputs": [
        {
          "output_type": "execute_result",
          "data": {
            "text/plain": [
              "['https://amazon.com/p/1234567890/awesome-product-1',\n",
              " 'https://amazon.com/p/6454343333/ok-product-2',\n",
              " 'https://amazon.com/p/6543565454/great-product-1']"
            ]
          },
          "metadata": {},
          "execution_count": 5
        }
      ],
      "source": [
        "re.findall(r'<a href=\"(https://amazon.com/p/\\d+/.+)\">', s)"
      ]
    },
    {
      "cell_type": "markdown",
      "metadata": {
        "id": "7_A6EktEZuPt"
      },
      "source": [
        "# Practice Problems"
      ]
    },
    {
      "cell_type": "markdown",
      "metadata": {
        "id": "KJZ0Od1rZuPt"
      },
      "source": [
        "### Problem 1: Email Extraction\n",
        "\n",
        "**Problem**: Extract emails from a given string.  \n",
        "**String**: \"Contact us at support@example.com or sales@example.org\""
      ]
    },
    {
      "cell_type": "code",
      "source": [
        "string_to_search = \"Contact us at support@example.com or sales@example.org\"\n",
        "\n",
        "# Regular expression pattern for matching email addresses\n",
        "email_pattern = r'\\b[A-Za-z0-9._%+-]+@[A-Za-z0-9.-]+\\.[A-Z|a-z]{2,}\\b'\n",
        "\n",
        "# Use re.findall to extract email addresses from the string\n",
        "extracted_emails = re.findall(email_pattern, string_to_search)\n",
        "\n",
        "print(extracted_emails)\n"
      ],
      "metadata": {
        "colab": {
          "base_uri": "https://localhost:8080/"
        },
        "id": "qDXyByPday1G",
        "outputId": "85c660a4-4420-4c1b-f1d7-1e1ed49804a0"
      },
      "execution_count": 6,
      "outputs": [
        {
          "output_type": "stream",
          "name": "stdout",
          "text": [
            "['support@example.com', 'sales@example.org']\n"
          ]
        }
      ]
    },
    {
      "cell_type": "code",
      "source": [],
      "metadata": {
        "id": "m5hmkiKGbDxA"
      },
      "execution_count": null,
      "outputs": []
    },
    {
      "cell_type": "markdown",
      "metadata": {
        "id": "32YYhdS1ZuPu"
      },
      "source": [
        "### Problem 2: Phone Number Validation\n",
        "\n",
        "**Problem**: Validate and extract US phone numbers in the format xxx-xxx-xxxx.  \n",
        "**String**: \"My numbers are 123-456-7890 or 333-333-3333\""
      ]
    },
    {
      "cell_type": "code",
      "source": [
        "string_to_search = \"My numbers are 123-456-7890 or 333-333-3333\"\n",
        "\n",
        "# Regular expression pattern for matching US phone numbers\n",
        "phone_number_pattern = r'\\b\\d{3}-\\d{3}-\\d{4}\\b'\n",
        "\n",
        "# Use re.findall to extract US phone numbers from the string\n",
        "extracted_phone_numbers = re.findall(phone_number_pattern, string_to_search)\n",
        "\n",
        "print(extracted_phone_numbers)\n"
      ],
      "metadata": {
        "colab": {
          "base_uri": "https://localhost:8080/"
        },
        "id": "G0esaOnXbF2B",
        "outputId": "1a7f7401-06fe-4902-85a3-034630516e4a"
      },
      "execution_count": 7,
      "outputs": [
        {
          "output_type": "stream",
          "name": "stdout",
          "text": [
            "['123-456-7890', '333-333-3333']\n"
          ]
        }
      ]
    },
    {
      "cell_type": "markdown",
      "metadata": {
        "id": "iIrGtXJzZuPu"
      },
      "source": [
        "### Problem 3: Password Strength Check\n",
        "\n",
        "**Problem**: Check if a password is at least 8 characters long, contains a digit, an uppercase, and a lowercase letter.  \n",
        "**String**: \"Password1\""
      ]
    },
    {
      "cell_type": "code",
      "source": [
        "\n",
        "\n",
        "def is_valid_password(password):\n",
        "    # Check if the password is at least 8 characters long\n",
        "    if len(password) < 8:\n",
        "        return False\n",
        "\n",
        "    # Check if the password contains at least one digit\n",
        "    if not re.search(r'\\d', password):\n",
        "        return False\n",
        "\n",
        "    # Check if the password contains at least one uppercase letter\n",
        "    if not re.search(r'[A-Z]', password):\n",
        "        return False\n",
        "\n",
        "    # Check if the password contains at least one lowercase letter\n",
        "    if not re.search(r'[a-z]', password):\n",
        "        return False\n",
        "\n",
        "    # If all checks pass, the password is valid\n",
        "    return True\n",
        "\n",
        "# Test the function with the given password\n",
        "password_to_check = \"Password1\"\n",
        "result = is_valid_password(password_to_check)\n",
        "\n",
        "if result:\n",
        "    print(f\"The password '{password_to_check}' is valid.\")\n",
        "else:\n",
        "    print(f\"The password '{password_to_check}' is not valid.\")\n"
      ],
      "metadata": {
        "colab": {
          "base_uri": "https://localhost:8080/"
        },
        "id": "jUvKqk1wbGwG",
        "outputId": "897b11a2-dcba-4eed-ac7f-4f214acf01cf"
      },
      "execution_count": 8,
      "outputs": [
        {
          "output_type": "stream",
          "name": "stdout",
          "text": [
            "The password 'Password1' is valid.\n"
          ]
        }
      ]
    },
    {
      "cell_type": "markdown",
      "metadata": {
        "id": "9v6Qk4bkZuPu"
      },
      "source": [
        "### Problem 4: Extracting Domain Name\n",
        "\n",
        "**Problem**: Extract the domain name from an email address.  \n",
        "**String**: \"user@example.com\""
      ]
    },
    {
      "cell_type": "code",
      "source": [
        "email_address = \"user@example.com\"\n",
        "\n",
        "# Regular expression pattern for extracting the domain name from an email address\n",
        "domain_pattern = r'@([A-Za-z0-9.-]+)'\n",
        "\n",
        "# Use re.search to find the first match of the pattern in the email address\n",
        "match = re.search(domain_pattern, email_address)\n",
        "\n",
        "if match:\n",
        "    # Extract the domain name from the match\n",
        "    domain_name = match.group(1)\n",
        "    print(f\"The domain name is: {domain_name}\")\n",
        "else:\n",
        "    print(\"No domain name found in the email address.\")\n"
      ],
      "metadata": {
        "colab": {
          "base_uri": "https://localhost:8080/"
        },
        "id": "mbI8BRsobys5",
        "outputId": "82f94231-2ad0-413b-e763-0c074d091cd2"
      },
      "execution_count": 9,
      "outputs": [
        {
          "output_type": "stream",
          "name": "stdout",
          "text": [
            "The domain name is: example.com\n"
          ]
        }
      ]
    },
    {
      "cell_type": "markdown",
      "metadata": {
        "id": "_585OxbuZuPu"
      },
      "source": [
        "### Problem 5: Validating an IP Address\n",
        "\n",
        "**Problem**: Check if a string is a valid IPv4 address.  \n",
        "**String**: \"192.168.1.1\""
      ]
    },
    {
      "cell_type": "code",
      "source": [
        "def is_valid_ipv4(ip_address):\n",
        "    # Regular expression pattern for matching a valid IPv4 address\n",
        "    ipv4_pattern = r'^((25[0-5]|2[0-4][0-9]|[01]?[0-9][0-9]?)\\.){3}(25[0-5]|2[0-4][0-9]|[01]?[0-9][0-9]?)$'\n",
        "\n",
        "    # Use re.match to check if the string matches the IPv4 pattern\n",
        "    match = re.match(ipv4_pattern, ip_address)\n",
        "\n",
        "    return bool(match)\n",
        "\n",
        "# Test the function with the given string\n",
        "ip_address_to_check = \"192.168.1.1\"\n",
        "result = is_valid_ipv4(ip_address_to_check)\n",
        "\n",
        "if result:\n",
        "    print(f\"The string '{ip_address_to_check}' is a valid IPv4 address.\")\n",
        "else:\n",
        "    print(f\"The string '{ip_address_to_check}' is not a valid IPv4 address.\")\n"
      ],
      "metadata": {
        "colab": {
          "base_uri": "https://localhost:8080/"
        },
        "id": "KMCw1ZYjbH99",
        "outputId": "d4bc9a43-5a49-434f-9d78-e8bb1b2dabe9"
      },
      "execution_count": 11,
      "outputs": [
        {
          "output_type": "stream",
          "name": "stdout",
          "text": [
            "The string '192.168.1.1' is a valid IPv4 address.\n"
          ]
        }
      ]
    }
  ],
  "metadata": {
    "kernelspec": {
      "display_name": "Python 3",
      "language": "python",
      "name": "python3"
    },
    "language_info": {
      "codemirror_mode": {
        "name": "ipython",
        "version": 3
      },
      "file_extension": ".py",
      "mimetype": "text/x-python",
      "name": "python",
      "nbconvert_exporter": "python",
      "pygments_lexer": "ipython3",
      "version": "3.11.7"
    },
    "colab": {
      "provenance": []
    }
  },
  "nbformat": 4,
  "nbformat_minor": 0
}